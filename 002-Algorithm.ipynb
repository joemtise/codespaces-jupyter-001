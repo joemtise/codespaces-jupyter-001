{
 "cells": [
  {
   "cell_type": "code",
   "execution_count": 1,
   "id": "f5464a83-9aec-460f-bd52-cf4093b36a7f",
   "metadata": {},
   "outputs": [],
   "source": [
    "bids = [ ('John', 10, 1000.0), ('Jim', 10, 100.0), ('Jeff', 10, 1.0) ]\n",
    "asks = [ ('Tim', 10, 1000.0), ('Terry', 10, 100.0), ('Tiff', 10, 1.0) ]"
   ]
  },
  {
   "cell_type": "code",
   "execution_count": 2,
   "id": "eb26dc94-e594-4711-8194-2742f1d16316",
   "metadata": {},
   "outputs": [
    {
     "name": "stdout",
     "output_type": "stream",
     "text": [
      "('John', 10, 1000.0)\n",
      "('Jim', 10, 100.0)\n",
      "('Jeff', 10, 1.0)\n",
      "('Tim', 10, 1000.0)\n",
      "('Terry', 10, 100.0)\n",
      "('Tiff', 10, 1.0)\n"
     ]
    }
   ],
   "source": [
    "for bid in bids:\n",
    "    print(bid)\n",
    "for ask in asks:\n",
    "    print (ask)\n",
    "    "
   ]
  },
  {
   "cell_type": "code",
   "execution_count": 3,
   "id": "e1d0ca22-4ed8-4a03-ba48-0201087ef7d5",
   "metadata": {},
   "outputs": [
    {
     "name": "stdout",
     "output_type": "stream",
     "text": [
      "Considering bid price 1000 >= ask price 1000\n",
      "Considering bid price 1000 >= ask price 100\n",
      "Considering bid price 1000 >= ask price 1\n",
      "Ignoring bid < ask\n",
      "Considering bid price 100 >= ask price 100\n",
      "Considering bid price 100 >= ask price 1\n",
      "Ignoring bid < ask\n",
      "Ignoring bid < ask\n",
      "Considering bid price 1 >= ask price 1\n"
     ]
    }
   ],
   "source": [
    "# Stage 1 - consider only bid price > ask price. \n",
    "considering = []\n",
    "ignoring = []\n",
    "\n",
    "for bid in bids:\n",
    "    for ask in asks:\n",
    "        bid_price = bid[2]\n",
    "        ask_price = ask[2]\n",
    "        if bid_price >= ask_price:\n",
    "            considering.append( (bid, ask) )\n",
    "            print ('Considering bid price %d >= ask price %d' % (bid_price, ask_price))\n",
    "        else:\n",
    "            print ('Ignoring bid < ask')\n",
    "            ignoring.append(  (bid, ask) )\n"
   ]
  },
  {
   "cell_type": "code",
   "execution_count": 4,
   "id": "a306a5ac-76af-4b5b-9241-9116ceafaac3",
   "metadata": {},
   "outputs": [
    {
     "name": "stdout",
     "output_type": "stream",
     "text": [
      "[(('John', 10, 1000.0), ('Tim', 10, 1000.0)), (('John', 10, 1000.0), ('Terry', 10, 100.0)), (('John', 10, 1000.0), ('Tiff', 10, 1.0)), (('Jim', 10, 100.0), ('Terry', 10, 100.0)), (('Jim', 10, 100.0), ('Tiff', 10, 1.0)), (('Jeff', 10, 1.0), ('Tiff', 10, 1.0))]\n"
     ]
    }
   ],
   "source": [
    "print(considering)"
   ]
  },
  {
   "cell_type": "code",
   "execution_count": null,
   "id": "53b5544a-10c0-4d5d-879a-980aaf2970b8",
   "metadata": {},
   "outputs": [],
   "source": []
  }
 ],
 "metadata": {
  "kernelspec": {
   "display_name": "Python 3 (ipykernel)",
   "language": "python",
   "name": "python3"
  },
  "language_info": {
   "codemirror_mode": {
    "name": "ipython",
    "version": 3
   },
   "file_extension": ".py",
   "mimetype": "text/x-python",
   "name": "python",
   "nbconvert_exporter": "python",
   "pygments_lexer": "ipython3",
   "version": "3.10.13"
  }
 },
 "nbformat": 4,
 "nbformat_minor": 5
}
