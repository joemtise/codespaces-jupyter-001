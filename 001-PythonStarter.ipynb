{
 "cells": [
  {
   "cell_type": "code",
   "execution_count": 1,
   "id": "e3117361-6187-4d30-8349-e46b7b48abc9",
   "metadata": {},
   "outputs": [],
   "source": [
    "# This is a Comment\n",
    "# So is this\n",
    "# comments are for humans\n",
    "# comments start with #\n",
    "# everything after the # to the end of the line is interpreted as a commment.\n"
   ]
  },
  {
   "cell_type": "code",
   "execution_count": 2,
   "id": "f863f7dc-81a1-4989-97d6-d92d76aa728c",
   "metadata": {},
   "outputs": [
    {
     "name": "stdout",
     "output_type": "stream",
     "text": [
      "123\n"
     ]
    }
   ],
   "source": [
    "x = 123 \n",
    "# x is a variable, it now has the numeric value 123\n",
    "\n",
    "print(x)\n",
    "# print is a function that outputs the value of its parameter (parameters or params are also known as arguments or args).\n",
    "# outputs the current value of x to the command prompt"
   ]
  },
  {
   "cell_type": "code",
   "execution_count": 3,
   "id": "3227f524-d2b0-42d6-813d-3be6d2bf8129",
   "metadata": {},
   "outputs": [
    {
     "name": "stdout",
     "output_type": "stream",
     "text": [
      "['chips', 'gammon', 'butter', 'salt']\n",
      "rice\n",
      "['chips', 'gammon', 'butter', 'salt']\n",
      "['rice', 'gammon', 'butter', 'salt']\n"
     ]
    }
   ],
   "source": [
    "# Different types of values\n",
    "carb = 'chips'  #string\n",
    "protein = 'eggs' \n",
    "protein = 'gammon'\n",
    "fat = 'butter'\n",
    "condiment = 'salt'\n",
    "\n",
    "# A variable can contain a list of other variables :-o\n",
    "meal = [carb, protein, fat, condiment]  #list\n",
    "\n",
    "print (meal)\n",
    "carb = 'rice'  # see how changing this variable doesn't affect the meal.\n",
    "print (carb)\n",
    "print (meal)\n",
    "\n",
    "# if we re-assign the meal we get the current value of carb\n",
    "meal = [carb, protein, fat, condiment]\n",
    "print (meal)\n"
   ]
  },
  {
   "cell_type": "code",
   "execution_count": 4,
   "id": "a6731e4f-e2ab-432e-bc0a-32d69f32d36d",
   "metadata": {},
   "outputs": [
    {
     "name": "stdout",
     "output_type": "stream",
     "text": [
      "And then blah times 123 but not foo\n"
     ]
    }
   ],
   "source": [
    "# string formatting for nice output\n",
    "\n",
    "out = ''\n",
    "a = 'blah'\n",
    "b = 'foo'\n",
    "c = 123\n",
    "\n",
    "print ('And then %s times %d but not %s' % (a, c, b))\n",
    "\n",
    "# n.b. this is the most modern way, see this article for dtls\n",
    "# https://realpython.com/python-formatted-output/\n"
   ]
  },
  {
   "cell_type": "code",
   "execution_count": 5,
   "id": "a474df4d-8479-4655-b161-11681bfbc2de",
   "metadata": {},
   "outputs": [
    {
     "name": "stdout",
     "output_type": "stream",
     "text": [
      "roo\n"
     ]
    }
   ],
   "source": [
    "# an if statement\n",
    "\n",
    "if a < b:\n",
    "    print ('roo')\n",
    "elif a == b:\n",
    "    print ('quak')\n",
    "else:\n",
    "    print ('roff')\n",
    "\n",
    "# n.b. the indentation is important - python interpreter relies on indentation to interpret your code."
   ]
  },
  {
   "cell_type": "code",
   "execution_count": 6,
   "id": "b8d4c7b9-c8bb-48aa-afe5-623c53b95e27",
   "metadata": {},
   "outputs": [
    {
     "name": "stdout",
     "output_type": "stream",
     "text": [
      "1\n",
      "2\n",
      "3\n",
      "4\n"
     ]
    }
   ],
   "source": [
    "# iterating over list of items - For Each\n",
    "\n",
    "j = 1\n",
    "k = 2\n",
    "l = 3\n",
    "m = 4\n",
    "things = [j,k,l,m]\n",
    "for thing in things:\n",
    "    print (thing)\n",
    "    "
   ]
  },
  {
   "cell_type": "code",
   "execution_count": 7,
   "id": "0486fc95-85d6-40d8-81d6-1f4c55e6b216",
   "metadata": {},
   "outputs": [
    {
     "name": "stdout",
     "output_type": "stream",
     "text": [
      "[2, 3, 1, 4]\n",
      "4\n"
     ]
    }
   ],
   "source": [
    "# randomise the list using the shuffle function \n",
    "# from the random module.\n",
    "\n",
    "import random\n",
    "random.shuffle(things)\n",
    "print (things)\n",
    "\n",
    "howmanythings = len(things)    # len is a builtin function that tells you the length of a thing (usually a list)\n",
    "print(howmanythings)\n"
   ]
  },
  {
   "cell_type": "code",
   "execution_count": 8,
   "id": "5d154b7f-2eeb-458d-a1ab-023d12bf5bbd",
   "metadata": {},
   "outputs": [
    {
     "ename": "TypeError",
     "evalue": "object of type 'int' has no len()",
     "output_type": "error",
     "traceback": [
      "\u001b[0;31m---------------------------------------------------------------------------\u001b[0m",
      "\u001b[0;31mTypeError\u001b[0m                                 Traceback (most recent call last)",
      "Cell \u001b[0;32mIn[8], line 3\u001b[0m\n\u001b[1;32m      1\u001b[0m \u001b[38;5;66;03m# n.b. some things don't have a length\u001b[39;00m\n\u001b[0;32m----> 3\u001b[0m \u001b[38;5;28mprint\u001b[39m (\u001b[38;5;28;43mlen\u001b[39;49m\u001b[43m(\u001b[49m\u001b[38;5;241;43m1\u001b[39;49m\u001b[43m)\u001b[49m)\n\u001b[1;32m      5\u001b[0m \u001b[38;5;66;03m# python interpreter will \"raise an error\" and jupyter will display the \"Traceback\" which gives you extra context about where the error occurred.\u001b[39;00m\n",
      "\u001b[0;31mTypeError\u001b[0m: object of type 'int' has no len()"
     ]
    }
   ],
   "source": [
    "# n.b. some things don't have a length\n",
    "\n",
    "print (len(1))\n",
    "\n",
    "# python interpreter will \"raise an error\" and jupyter will display the \"Traceback\" which gives you extra context about where the error occurred.\n"
   ]
  },
  {
   "cell_type": "code",
   "execution_count": null,
   "id": "1a70882e-ffe4-4664-96fd-500f38f8e338",
   "metadata": {},
   "outputs": [],
   "source": [
    "\n",
    "# iterating over list items - For Loop\n",
    "\n",
    "counter = 0\n",
    "\n",
    "print(range(0, len(things)))\n",
    "\n",
    "\n",
    "for counter in range(0, len(things)):\n",
    "    print (counter, things[counter])  \n",
    "\n",
    "\n"
   ]
  },
  {
   "cell_type": "code",
   "execution_count": null,
   "id": "ebaafd17-0f84-49c6-aaeb-75bd11bd8511",
   "metadata": {},
   "outputs": [],
   "source": [
    "# simple\n",
    "counter = 0\n",
    "for counter in range(10):\n",
    "    print (counter)"
   ]
  },
  {
   "cell_type": "code",
   "execution_count": null,
   "id": "2728c5f4-9dde-4f1d-822b-fff06c20448a",
   "metadata": {},
   "outputs": [],
   "source": [
    "# same thing, step by step - useful for debugging!\n",
    "\n",
    "counter = 0\n",
    "len_things = len(things)\n",
    "range_things = (range(0, len_things))\n",
    "print ('counter %d len_things %d range_things %s' % (counter, len_things, range_things))\n",
    "\n",
    "\n",
    "for counter in range_things):\n",
    "    print (counter, things[counter])  \n"
   ]
  }
 ],
 "metadata": {
  "kernelspec": {
   "display_name": "Python 3 (ipykernel)",
   "language": "python",
   "name": "python3"
  },
  "language_info": {
   "codemirror_mode": {
    "name": "ipython",
    "version": 3
   },
   "file_extension": ".py",
   "mimetype": "text/x-python",
   "name": "python",
   "nbconvert_exporter": "python",
   "pygments_lexer": "ipython3",
   "version": "3.10.13"
  }
 },
 "nbformat": 4,
 "nbformat_minor": 5
}
