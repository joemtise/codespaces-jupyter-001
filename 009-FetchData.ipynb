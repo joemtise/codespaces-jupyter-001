{
 "cells": [
  {
   "cell_type": "code",
   "execution_count": 1,
   "id": "24f656c8-8a49-4c4a-a85e-50d0e53e779e",
   "metadata": {},
   "outputs": [
    {
     "name": "stdout",
     "output_type": "stream",
     "text": [
      "{'userId': 1, 'id': 1, 'title': 'delectus aut autem', 'completed': False}\n"
     ]
    }
   ],
   "source": [
    "\n",
    "# see https://www.pythonpool.com/python-requests-json/\n",
    "\n",
    "import requests\n",
    "response = requests.get('https://jsonplaceholder.typicode.com/todos/1')\n",
    "data = response.json()\n",
    "print(data)"
   ]
  },
  {
   "cell_type": "code",
   "execution_count": 4,
   "id": "b0eb3c76-2d51-4842-b5ab-2983407f0001",
   "metadata": {},
   "outputs": [
    {
     "name": "stdout",
     "output_type": "stream",
     "text": [
      "Request failed with status code 404: 404 Client Error: Not Found for url: https://jsonplaceholder.typicode.com/todos/invalid\n"
     ]
    }
   ],
   "source": [
    "import requests\n",
    "response = requests.get('https://jsonplaceholder.typicode.com/todos/invalid')\n",
    "try:\n",
    "    response.raise_for_status()\n",
    "except requests.exceptions.HTTPError as e:\n",
    "    print(f'Request failed with status code {response.status_code}: {e}')\n",
    "else:\n",
    "    data = response.json()\n",
    "    print(data)"
   ]
  },
  {
   "cell_type": "code",
   "execution_count": 3,
   "id": "e662baf5-e5f8-4652-a3f0-cc5f69c736da",
   "metadata": {},
   "outputs": [
    {
     "name": "stdout",
     "output_type": "stream",
     "text": [
      "{'userId': 1, 'id': 1, 'title': 'delectus aut autem', 'completed': False}\n"
     ]
    }
   ],
   "source": [
    "# Example with separate functions for fetching and processing.\n",
    "\n",
    "def fetchData():\n",
    "    import requests\n",
    "    response = requests.get('https://jsonplaceholder.typicode.com/todos/1')\n",
    "    try:\n",
    "        response.raise_for_status()\n",
    "    except requests.exceptions.HTTPError as e:\n",
    "        print(f'Request failed with status code {response.status_code}: {e}')\n",
    "        return ''\n",
    "    else:\n",
    "        data = response.json()\n",
    "        return data\n",
    "    \n",
    "def processData(data):\n",
    "    print(data)\n",
    "\n",
    "\n",
    "# Run begins here\n",
    "data = fetchData()\n",
    "if data:\n",
    "    processData(data)\n"
   ]
  }
 ],
 "metadata": {
  "kernelspec": {
   "display_name": "Python 3 (ipykernel)",
   "language": "python",
   "name": "python3"
  },
  "language_info": {
   "codemirror_mode": {
    "name": "ipython",
    "version": 3
   },
   "file_extension": ".py",
   "mimetype": "text/x-python",
   "name": "python",
   "nbconvert_exporter": "python",
   "pygments_lexer": "ipython3",
   "version": "3.10.13"
  }
 },
 "nbformat": 4,
 "nbformat_minor": 5
}
